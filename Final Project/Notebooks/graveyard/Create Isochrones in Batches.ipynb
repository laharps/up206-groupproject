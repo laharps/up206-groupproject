{
 "cells": [
  {
   "cell_type": "markdown",
   "metadata": {},
   "source": [
    "# Looping Isochrones in Bits\n",
    "This notebook uses the [NYC Vaccine Location dataset](https://vaccinefinder.nyc.gov/locations) and creates a 20-minute walkshed isochrone for each location. However, this dataset contains over 100 locations and can not be processed in one notebook without overloading the memory. Therefore, I'll run this notebook for 20 locations at a time (that appears to just max out the memory). For each chunk of locations, I'll only need to change one cell that subsets the raw dataset. At the end of the code, I'll save out the final dataframe as a .csv. Then, in a separate notebook, I'll bring in each dataframe and bind them together. \n"
   ]
  },
  {
   "cell_type": "markdown",
   "metadata": {},
   "source": [
    "## Initialize Workspace"
   ]
  },
  {
   "cell_type": "markdown",
   "metadata": {},
   "source": [
    "First, I'll import libraries needed for analysis."
   ]
  },
  {
   "cell_type": "code",
   "execution_count": null,
   "metadata": {},
   "outputs": [],
   "source": [
    "# for data\n",
    "import pandas as pd\n",
    "\n",
    "# for spatial data\n",
    "import geopandas as gpd\n",
    "\n",
    "# for plotting\n",
    "import matplotlib.pyplot as plt\n",
    "\n",
    "# for network analysis\n",
    "import networkx as nx\n",
    "\n",
    "# for street network analysis\n",
    "import osmnx as ox\n",
    "\n",
    "# for basemaps\n",
    "import contextily as ctx"
   ]
  },
  {
   "cell_type": "markdown",
   "metadata": {},
   "source": [
    "Now, I'll upload the location dataset. We got this dataset by saving a geojson file from the ArcGIS server. The dataset is not live. It might be working re-checking in a couple weeks to see if any additional locations have been added. "
   ]
  },
  {
   "cell_type": "code",
   "execution_count": null,
   "metadata": {},
   "outputs": [],
   "source": [
    "# read in the geojson\n",
    "raw = gpd.read_file('data/vac.geojson')"
   ]
  },
  {
   "cell_type": "code",
   "execution_count": null,
   "metadata": {},
   "outputs": [],
   "source": [
    "# subset the dataset to process\n",
    "# reset index so the loops work\n",
    "# 1 = 0:20, 2 = 20:40, 3 = 40:60, 4 = 60:80, 5 = 80:100, 6 = 100:126\n",
    "vac = raw[100:126].reset_index().copy()"
   ]
  },
  {
   "cell_type": "markdown",
   "metadata": {},
   "source": [
    "# Set-Up for Isochrones"
   ]
  },
  {
   "cell_type": "markdown",
   "metadata": {},
   "source": [
    "## Set-Up for Isochrones"
   ]
  },
  {
   "cell_type": "markdown",
   "metadata": {},
   "source": [
    "### Download and Prep Street Network"
   ]
  },
  {
   "cell_type": "markdown",
   "metadata": {},
   "source": [
    "For the final project, we will only look at a 15-minute walkshed. We're more interested in who has easy access (defined as a 15-minute walk), rather than gradations of access. "
   ]
  },
  {
   "cell_type": "code",
   "execution_count": null,
   "metadata": {},
   "outputs": [],
   "source": [
    "# set up variables\n",
    "network_type = 'walk' # create walkshed\n",
    "trip_times = 15 # minutes\n",
    "meters_per_minute = 75 # travel distance per minute"
   ]
  },
  {
   "cell_type": "markdown",
   "metadata": {},
   "source": [
    "The `place` variable will be a list of lat/lon tuples. This is created by initialize an empty list, the length of `vac` and then looping through each location to assign the lat/lon tuple to the list. "
   ]
  },
  {
   "cell_type": "code",
   "execution_count": null,
   "metadata": {},
   "outputs": [],
   "source": [
    "# create list of tuples for lat/lon\n",
    "\n",
    "# iniatlize empty list\n",
    "place = [0]*len(vac)\n",
    "\n",
    "# loop through lat/lons\n",
    "for i in range(len(vac)):\n",
    "    place[i] = (vac.Latitude[i], vac.Longitude[i])"
   ]
  },
  {
   "cell_type": "markdown",
   "metadata": {},
   "source": [
    "Now download the street network for each location. I will store the networks in a dictionary and name them G0, G1, G2, etc."
   ]
  },
  {
   "cell_type": "code",
   "execution_count": null,
   "metadata": {
    "scrolled": false
   },
   "outputs": [],
   "source": [
    "%%time\n",
    "# download multiple street networks into a dictionary using latlon list\n",
    "\n",
    "# initialize empty dictionary\n",
    "nets = {}\n",
    "\n",
    "for i in range(len(vac)):\n",
    "    name = \"G\" + str(i) # allows me to dynamically call each dataframe in the dictionary\n",
    "    nets[name] = ox.graph_from_point(place[i], dist = 2000, network_type=network_type)"
   ]
  },
  {
   "cell_type": "markdown",
   "metadata": {},
   "source": [
    "### Project Coordinates"
   ]
  },
  {
   "cell_type": "markdown",
   "metadata": {},
   "source": [
    "Project each of the networks contained in the `nets` dictionary to Web mercator. This step also take some time."
   ]
  },
  {
   "cell_type": "code",
   "execution_count": null,
   "metadata": {},
   "outputs": [],
   "source": [
    "# Project network data to Web Mercator (measurements are in meters)\n",
    "\n",
    "for i in range(len(vac)):\n",
    "    name = \"G\" + str(i)\n",
    "    nets[name] = ox.project_graph(nets[name], to_crs='epsg:3857')"
   ]
  },
  {
   "cell_type": "markdown",
   "metadata": {},
   "source": [
    "### Convert Edges and Nodes to Geodataframes"
   ]
  },
  {
   "cell_type": "markdown",
   "metadata": {},
   "source": [
    "Rather than creating a dataframe for nodes and edges, I will create separate dictionaries called `nodes` and `edges` that contain multiple dataframes (ex. gdf_nodes0, gdf_notes1...) "
   ]
  },
  {
   "cell_type": "code",
   "execution_count": null,
   "metadata": {},
   "outputs": [],
   "source": [
    "# convert nodes and edges to geodataframes stored in dictionaries\n",
    "\n",
    "# initialize empty dictionaries\n",
    "nodes = {}\n",
    "edges = {}\n",
    "\n",
    "# loop through\n",
    "for i in range(len(vac)):\n",
    "    node_name = \"gdf_nodes\" + str(i)\n",
    "    edges_name = \"gdf_edges\" + str(i)\n",
    "    nodes[node_name], edges[edges_name] = ox.graph_to_gdfs(nets['G' + str(i)]) \n",
    "    "
   ]
  },
  {
   "cell_type": "markdown",
   "metadata": {},
   "source": [
    "### Get Centroids"
   ]
  },
  {
   "cell_type": "markdown",
   "metadata": {},
   "source": [
    "Find the centroid for each location and store in dictionary."
   ]
  },
  {
   "cell_type": "code",
   "execution_count": null,
   "metadata": {},
   "outputs": [],
   "source": [
    "# initialize dictionaries\n",
    "minx = {}\n",
    "miny = {}\n",
    "maxx = {}\n",
    "maxy = {}\n",
    "\n",
    "# loop through for the bounding box coordinates\n",
    "for i in range(len(vac)):\n",
    "    name = \"gdf_nodes\" + str(i)\n",
    "    minx[name], miny[name], maxx[name], maxy[name] = nodes[name].geometry.total_bounds\n"
   ]
  },
  {
   "cell_type": "code",
   "execution_count": null,
   "metadata": {},
   "outputs": [],
   "source": [
    "# initalize dictionaries\n",
    "cenx = {}\n",
    "ceny = {}\n",
    "\n",
    "# loop through to calculate the centroid\n",
    "for i in range(len(vac)):\n",
    "    name = \"gdf_nodes\" + str(i)\n",
    "    cenx[name] = (maxx[name]-minx[name])/2 + minx[name]\n",
    "    ceny[name] = (maxy[name]-miny[name])/2 + miny[name]\n"
   ]
  },
  {
   "cell_type": "markdown",
   "metadata": {},
   "source": [
    "### Get Nearest Node to Centroid"
   ]
  },
  {
   "cell_type": "markdown",
   "metadata": {},
   "source": [
    "Apply the same dictionary loop methodology to get the center node for each location."
   ]
  },
  {
   "cell_type": "code",
   "execution_count": null,
   "metadata": {},
   "outputs": [],
   "source": [
    "cen_node = {}\n",
    "\n",
    "# use osmnx's get_nearest_node command to get the id for the nearest node\n",
    "for i in range(len(vac)):\n",
    "    nets_name = 'G' + str(i)\n",
    "    cen_name = \"gdf_nodes\" + str(i)\n",
    "    \n",
    "    cen_node[cen_name] = ox.get_nearest_node(nets[nets_name], \n",
    "                                  (ceny[cen_name],cenx[cen_name]), \n",
    "                                  method = 'euclidean')"
   ]
  },
  {
   "cell_type": "markdown",
   "metadata": {},
   "source": [
    "## Create Isochrones "
   ]
  },
  {
   "cell_type": "markdown",
   "metadata": {},
   "source": [
    "### Calculate Travel Costs"
   ]
  },
  {
   "cell_type": "markdown",
   "metadata": {},
   "source": [
    "In order to add a new column to each of the dataframes in the dictionary, I extract the dataframe `gdf_edgesi` from the `edges` dictionary, assign it to `dummy`, and then add the column. This is a way of directly editing the dataframe within the dictionary."
   ]
  },
  {
   "cell_type": "code",
   "execution_count": null,
   "metadata": {},
   "outputs": [],
   "source": [
    "# create a new column, calculate the time it takes to travel that edge\n",
    "for i in range(len(vac)):\n",
    "    name = 'gdf_edges' + str(i)\n",
    "    dummy = edges[name]\n",
    "    dummy['walk_time'] = dummy['length']/meters_per_minute"
   ]
  },
  {
   "cell_type": "markdown",
   "metadata": {},
   "source": [
    "### Choose Colors"
   ]
  },
  {
   "cell_type": "markdown",
   "metadata": {},
   "source": [
    "We'll only use one color, might as well make it a cool one."
   ]
  },
  {
   "cell_type": "code",
   "execution_count": null,
   "metadata": {},
   "outputs": [],
   "source": [
    "# assign time and color variables \n",
    "time = trip_times\n",
    "color = '#228B22'"
   ]
  },
  {
   "cell_type": "markdown",
   "metadata": {},
   "source": [
    "### Color Nodes Based on Travel Time"
   ]
  },
  {
   "cell_type": "markdown",
   "metadata": {},
   "source": [
    "This step originally had two nested `for` loops. In this version, I wrap those initial nested `for` loops in an additional `for` loop that goes through each location."
   ]
  },
  {
   "cell_type": "code",
   "execution_count": null,
   "metadata": {},
   "outputs": [],
   "source": [
    "# loop through each trip time and associated color\n",
    "subgraph = {}\n",
    "\n",
    "for i in range(len(vac)):\n",
    "    nets_name = \"G\" + str(i)\n",
    "    nodes_name = \"gdf_nodes\" + str(i)\n",
    "        \n",
    "    subgraph[nets_name] = nx.ego_graph(nets[nets_name], cen_node[nodes_name], radius=time, distance='time')\n",
    "\n",
    "    # for each of those nodes, update the gdf_nodes dataframe and assign it with its associated distance color\n",
    "    for node in subgraph[nets_name].nodes():\n",
    "        nodes[nodes_name].loc[node,'time'] = str(time) + ' mins'\n",
    "        nodes[nodes_name].loc[node,'color'] = color"
   ]
  },
  {
   "cell_type": "code",
   "execution_count": null,
   "metadata": {},
   "outputs": [],
   "source": [
    "# the NaN values then need to be populated with a valid color\n",
    "for i in range(len(vac)): \n",
    "    name = \"gdf_nodes\" + str(i)\n",
    "    dummy = nodes[name]\n",
    "    dummy['color'].fillna('#cccccc', inplace=True)"
   ]
  },
  {
   "cell_type": "markdown",
   "metadata": {},
   "source": [
    "### Dissolve and Create Convex Hulls"
   ]
  },
  {
   "cell_type": "markdown",
   "metadata": {},
   "source": [
    "This step dissolves each dataframe in the `nodes` dictionary by time, resulting in four rows. Then a convex hull is created for each of the time categories."
   ]
  },
  {
   "cell_type": "code",
   "execution_count": null,
   "metadata": {},
   "outputs": [],
   "source": [
    "# dissolve the nodes by time\n",
    "# collapses into a single row based on a certain column and results in multi-point geometry\n",
    "# this will result in four rows, one for each time category\n",
    "\n",
    "isochrones = {}\n",
    "\n",
    "for i in range(len(vac)):\n",
    "    nodes_name = \"gdf_nodes\" + str(i)\n",
    "    dummy = nodes[nodes_name]\n",
    "    isochrones[nodes_name] = dummy.dissolve(\"time\")\n"
   ]
  },
  {
   "cell_type": "code",
   "execution_count": null,
   "metadata": {},
   "outputs": [],
   "source": [
    "# for each row, create a convex hull\n",
    "\n",
    "for i in range(len(vac)):\n",
    "    nodes_name = \"gdf_nodes\" + str(i)\n",
    "    dummy = isochrones[nodes_name]\n",
    "    isochrones[nodes_name] = dummy.convex_hull.reset_index()"
   ]
  },
  {
   "cell_type": "code",
   "execution_count": null,
   "metadata": {},
   "outputs": [],
   "source": [
    "# geometry header has been automatically named \"0\"\n",
    "# let's rename that\n",
    "\n",
    "for i in range(len(vac)):\n",
    "    nodes_name = \"gdf_nodes\" + str(i)\n",
    "    dummy = isochrones[nodes_name]\n",
    "    dummy.columns=['time','geometry']"
   ]
  },
  {
   "cell_type": "markdown",
   "metadata": {},
   "source": [
    "## Export"
   ]
  },
  {
   "cell_type": "markdown",
   "metadata": {},
   "source": [
    "Currently, all the isochrones are in a dictionary. Let's put all the isochrones in a single dataframe with each isochrone as one row"
   ]
  },
  {
   "cell_type": "code",
   "execution_count": null,
   "metadata": {},
   "outputs": [],
   "source": [
    "# collapse all rows into a single dataframe\n",
    "iso6 = pd.concat(isochrones, axis=0).sum(axis=1, level=0)"
   ]
  },
  {
   "cell_type": "code",
   "execution_count": null,
   "metadata": {},
   "outputs": [],
   "source": [
    "# export to .csv\n",
    "iso6.to_csv('data/iso6.csv')"
   ]
  },
  {
   "cell_type": "code",
   "execution_count": null,
   "metadata": {},
   "outputs": [],
   "source": []
  }
 ],
 "metadata": {
  "kernelspec": {
   "display_name": "Python 3",
   "language": "python",
   "name": "python3"
  },
  "language_info": {
   "codemirror_mode": {
    "name": "ipython",
    "version": 3
   },
   "file_extension": ".py",
   "mimetype": "text/x-python",
   "name": "python",
   "nbconvert_exporter": "python",
   "pygments_lexer": "ipython3",
   "version": "3.8.5"
  },
  "toc": {
   "base_numbering": 1,
   "nav_menu": {},
   "number_sections": true,
   "sideBar": true,
   "skip_h1_title": false,
   "title_cell": "Table of Contents",
   "title_sidebar": "Contents",
   "toc_cell": false,
   "toc_position": {},
   "toc_section_display": true,
   "toc_window_display": false
  }
 },
 "nbformat": 4,
 "nbformat_minor": 4
}
