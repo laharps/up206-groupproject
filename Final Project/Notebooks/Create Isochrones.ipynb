{
 "cells": [
  {
   "cell_type": "markdown",
   "metadata": {},
   "source": [
    "# Create Vaccine Location Walksheds\n",
    "This notebook uses the [NYC Vaccine Location dataset](https://vaccinefinder.nyc.gov/locations) and creates a 15-minute walkshed isochrone for each location. This dataset defines a function to create an isochrone, loops through each vaccine location, and then writes the resulting isochrones to `iso.csv`. "
   ]
  },
  {
   "cell_type": "markdown",
   "metadata": {},
   "source": [
    "# Initialize Workspace"
   ]
  },
  {
   "cell_type": "markdown",
   "metadata": {},
   "source": [
    "## Import Libraries"
   ]
  },
  {
   "cell_type": "code",
   "execution_count": null,
   "metadata": {},
   "outputs": [],
   "source": [
    "# for data\n",
    "import pandas as pd\n",
    "\n",
    "# for spatial data\n",
    "import geopandas as gpd\n",
    "\n",
    "# for network analysis\n",
    "import networkx as nx\n",
    "\n",
    "# for street network analysis\n",
    "import osmnx as ox\n",
    "\n",
    "# to manipulate csv files\n",
    "import csv\n",
    "from csv import DictWriter"
   ]
  },
  {
   "cell_type": "markdown",
   "metadata": {},
   "source": [
    "## Import Data\n",
    "Bring in the vaccine locations from a geojson file."
   ]
  },
  {
   "cell_type": "code",
   "execution_count": null,
   "metadata": {},
   "outputs": [],
   "source": [
    "# read in the geojson\n",
    "vac = gpd.read_file('data/vac.geojson')\n",
    "vac = vac[0:2].reset_index().copy()"
   ]
  },
  {
   "cell_type": "markdown",
   "metadata": {},
   "source": [
    "# Create Isochrones"
   ]
  },
  {
   "cell_type": "markdown",
   "metadata": {},
   "source": [
    "## Set Up\n",
    "Define variables and create an empty .csv for the isochrones. "
   ]
  },
  {
   "cell_type": "code",
   "execution_count": null,
   "metadata": {},
   "outputs": [],
   "source": [
    "# define variables for the function\n",
    "network_type = 'walk' # create walkshed\n",
    "meters_per_minute = 75 # travel distance per minute\n",
    "time = 15 # minutes\n",
    "color = '#228B22'"
   ]
  },
  {
   "cell_type": "markdown",
   "metadata": {},
   "source": [
    "<div class=\"alert alert-danger\">\n",
    "Do NOT run this cell. It will overwrite the existing completed file. \n",
    "</div>"
   ]
  },
  {
   "cell_type": "code",
   "execution_count": null,
   "metadata": {},
   "outputs": [],
   "source": [
    "# create blank csv file for isochrones\n",
    "\n",
    "# name of csv file  \n",
    "filename = \"data/iso.csv\"\n",
    "    \n",
    "# field names  \n",
    "fields = ['time', 'geometry']\n",
    "\n",
    "# writing to csv file ('w') \n",
    "with open(filename, 'w') as csvfile:  \n",
    "    # creating a csv writer object  \n",
    "    csvwriter = csv.writer(csvfile)  \n",
    "        \n",
    "    # writing the fields  \n",
    "    csvwriter.writerow(fields)  "
   ]
  },
  {
   "cell_type": "markdown",
   "metadata": {},
   "source": [
    "## Create Function\n",
    "This function takes in a lat/lon tuple from the vaccine dataset, creates an isochrone, and then appends it to `iso.csv`."
   ]
  },
  {
   "cell_type": "code",
   "execution_count": null,
   "metadata": {},
   "outputs": [],
   "source": [
    "def create_iso(place, name):\n",
    "    # download the street network\n",
    "    G = ox.graph_from_point(place, dist = 2000, network_type=network_type)\n",
    "    \n",
    "    # project network data to Web Mercator (meters)\n",
    "    G = ox.project_graph(G, to_crs='epsg:3857')\n",
    "    \n",
    "    # convert nodes and edges to geodataframes\n",
    "    gdf_nodes, gdf_edges = ox.graph_to_gdfs(G)\n",
    "    \n",
    "    # get the bounding box coordinates\n",
    "    minx, miny, maxx, maxy = gdf_nodes.geometry.total_bounds\n",
    "    \n",
    "    # calculate the centroid\n",
    "    centroid_x = (maxx-minx)/2 + minx\n",
    "    centroid_y = (maxy-miny)/2 + miny\n",
    "    \n",
    "    # use osmnx's get_nearest_node command to get the id for the nearest node\n",
    "    center_node = ox.get_nearest_node(G, \n",
    "                                  (centroid_y,centroid_x), \n",
    "                                  method = 'euclidean')\n",
    "    \n",
    "    # for each trip time, create an egograph of nodes that fall within that distance\n",
    "    subgraph = nx.ego_graph(G, center_node, radius=time, distance='time')\n",
    "\n",
    "    # for each of those nodes, update the gdf_nodes dataframe and assign it with its associated distance color\n",
    "    for node in subgraph.nodes():\n",
    "        gdf_nodes.loc[node,'time'] = str(time) + ' mins'\n",
    "        gdf_nodes.loc[node,'color'] = color\n",
    "        \n",
    "    # the NaN values then need to be populated with a valid color\n",
    "    gdf_nodes['color'].fillna('#cccccc', inplace=True)\n",
    "    \n",
    "    # dissolve the nodes by time\n",
    "    isochrone = gdf_nodes.dissolve(\"time\")\n",
    "    \n",
    "    # for each row, create a convex hull\n",
    "    isochrone = isochrone.convex_hull.reset_index()\n",
    "    \n",
    "    # geometry header has been automatically named \"0\"\n",
    "    isochrone.columns=['time','geometry']\n",
    "    \n",
    "    # name of csv file  \n",
    "    filename = \"data/iso_test.csv\"\n",
    "    \n",
    "    # field names  \n",
    "    fields = list(isochrone)\n",
    "    \n",
    "    with open('iso_test.csv', 'a') as isofile: \n",
    "\n",
    "            dictwriter = DictWriter(isofile, fieldnames=fields) \n",
    "\n",
    "            for index, row in isochrone.iterrows():\n",
    "                dictwriter.writerow(row.to_dict()) \n",
    "\n",
    "            isofile.close()    \n",
    "      "
   ]
  },
  {
   "cell_type": "markdown",
   "metadata": {},
   "source": [
    "# Loop\n",
    "Loop through each row in the vaccine dataset and use the `create_iso` function to generate an isochrone for each location. Note: This step takes 20+ minutes to run for the entire dataset, but does not overload the memory."
   ]
  },
  {
   "cell_type": "code",
   "execution_count": null,
   "metadata": {},
   "outputs": [],
   "source": [
    "# run loop\n",
    "for i in range(len(vac)):\n",
    "    place = (vac.Latitude[i], vac.Longitude[i])\n",
    "    name = vac.FacilityName[i]\n",
    "    create_iso(place, name)"
   ]
  },
  {
   "cell_type": "code",
   "execution_count": null,
   "metadata": {},
   "outputs": [],
   "source": [
    "# export iso gdf as a geojson\n",
    "iso.to_file(\"data/iso.geojson\", driver='GeoJSON')"
   ]
  },
  {
   "cell_type": "markdown",
   "metadata": {},
   "source": [
    "# Notes\n",
    "The result of this notebook is `iso.csv`, which contains an isochrone for each row in the vaccine dataset. It will be used next in the \"Accessibility Analysis\" notebook.\n",
    "\n",
    "In the first iteration, I used multiple `for` loops and stored multiple dataframes in dictionaries. However, this method required running the notebook six separate times in order to process in chunks that would not overload the memory. I've streamlined and simplified the code by using a function within a single `for` loop. In addition simplifying the code, using a function consumes far less memory because the intermediary dataframes are overwritten in each iteration, rather than attempting to store all the resulting dataframes from all iterations. The loop itself takes a significant amount of time to run, but I only need to run it once!\n",
    "\n",
    "<p> This notebook was created by Lauren Harper.</p>"
   ]
  }
 ],
 "metadata": {
  "kernelspec": {
   "display_name": "Python 3",
   "language": "python",
   "name": "python3"
  },
  "language_info": {
   "codemirror_mode": {
    "name": "ipython",
    "version": 3
   },
   "file_extension": ".py",
   "mimetype": "text/x-python",
   "name": "python",
   "nbconvert_exporter": "python",
   "pygments_lexer": "ipython3",
   "version": "3.8.5"
  },
  "toc": {
   "base_numbering": 1,
   "nav_menu": {},
   "number_sections": true,
   "sideBar": true,
   "skip_h1_title": false,
   "title_cell": "Table of Contents",
   "title_sidebar": "Contents",
   "toc_cell": false,
   "toc_position": {},
   "toc_section_display": true,
   "toc_window_display": false
  }
 },
 "nbformat": 4,
 "nbformat_minor": 4
}
